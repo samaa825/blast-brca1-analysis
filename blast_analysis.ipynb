{
 "cells": [
  {
   "cell_type": "markdown",
   "metadata": {},
   "source": [
    "# 🧬 BLAST Analysis of a DNA Sequence\n",
    "\n",
    "This notebook documents the process of using **NCBI BLAST** to analyze a DNA sequence and identify similar sequences in the NCBI database.\n",
    "\n",
    "Author: Samaa  \n",
    "Date: July 2025\n"
   ]
  },
  {
   "cell_type": "markdown",
   "metadata": {},
   "source": [
    "## 📌 Objective\n",
    "\n",
    "To analyze a nucleotide sequence using the NCBI BLAST tool and interpret the top results (hits) to understand similarity and function.\n",
    "\n"
   ]
  },
  {
   "cell_type": "markdown",
   "metadata": {},
   "source": [
    "- Source: NCBI Nucleotide Database  \n",
    "- Gene: BRCA1  \n",
    "- Accession: NG_005905.2  \n",
    "- Description: Homo sapiens BRCA1 (BRCA1), RefSeqGene on chromosome 17  \n",
    "- Length: 81295 bp  \n",
    "- FASTA format:>NG_005905.2 Homo sapiens BRCA1 DNA repair associated (BRCA1), RefSeqGene (LRG_292) on chromosome 17\n",
    "TGTGTGTATGAAGTTAACTTCAAAGCAAGCTTCCTGTGCTGAGGGGGTGGGAGGTAAGGGTGTGATGAGG\n",
    "CAGGGCTTCTCCTTTGGCAAAGCCTCTGTAGTCCTTCCTTAGTCACCAGGGAGTTGTGGGAGATATAGAC\n",
    "\n",
    "\n"
   ]
  },
  {
   "cell_type": "markdown",
   "metadata": {},
   "source": [
    "## 📊 BLAST Results \n",
    "\n",
    "![Graphical Summary](imagesgraphical_summary)\n",
    "![Alignment View](image_Alignments)\n",
    "![Description](images_discription)\n",
    "![general](Annotation202507-12184511)\n"
   ]
  },
  {
   "cell_type": "markdown",
   "metadata": {},
   "source": [
    "## 🧠 Interpretation\n",
    "\n",
    "- The top hit shows **high sequence identity (~99.9%)** with the human BRCA1 gene (accession: NM_007294.3).\n",
    "- The **E-value = 0.0**, which confirms the match is statistically significant.\n",
    "- This confirms the query sequence is indeed part of the BRCA1 gene region.\n"
   ]
  },
  {
   "cell_type": "markdown",
   "metadata": {},
   "source": [
    "## ✅ Conclusion\n",
    "\n",
    "Through this BLAST analysis, we confirmed that our input sequence matches the BRCA1 gene in humans.  \n",
    "This process is essential in bioinformatics to **identify unknown sequences**, **validate annotations**, and support **functional genomics** research.\n"
   ]
  }
 ],
 "metadata": {
  "language_info": {
   "name": "python"
  }
 },
 "nbformat": 4,
 "nbformat_minor": 2
}
